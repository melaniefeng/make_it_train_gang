{
 "cells": [
  {
   "cell_type": "code",
   "execution_count": 7,
   "metadata": {},
   "outputs": [],
   "source": [
    "import subprocess\n",
    "import os\n",
    "from parse import PredictionParser\n",
    "import wget\n",
    "import controller_location\n",
    "#import playVideo\n",
    "import controller"
   ]
  },
  {
   "cell_type": "code",
   "execution_count": null,
   "metadata": {
    "collapsed": true
   },
   "outputs": [],
   "source": []
  },
  {
   "cell_type": "code",
   "execution_count": 33,
   "metadata": {},
   "outputs": [
    {
     "name": "stdout",
     "output_type": "stream",
     "text": [
      "\n",
      "\n",
      "Welcome to controller\n",
      "\n",
      "\n",
      "\n",
      "Welcome to controller\n",
      "\n",
      "[['longhorn', 455, 296], ['longhorn', 371, 273], ['palm', 800, 296], ['palm', 400, 273], ['fhrt', 800, 300]]\n",
      "next password:  ['longhorn', 455, 296]\n",
      "next password:  ['longhorn', 455, 296]\n",
      "next password:  ['longhorn', 455, 296]\n",
      "reset\n",
      "here ['longhorn', 0, 200]\n",
      "unlock updated\n",
      "['longhorn', 0, 200]\n",
      "longhorn\n",
      "complete\n",
      "here ['longhorn', 0, 200]\n",
      "unlock updated\n",
      "['longhorn', 0, 200]\n",
      "longhorn\n",
      "complete\n",
      "here ['L', 100, 1000]\n",
      "unlock updated\n",
      "['L', 100, 1000]\n",
      "L\n",
      "complete\n",
      "here ['L', 100, 1000]\n",
      "unlock updated\n",
      "['L', 100, 1000]\n",
      "L\n",
      "complete\n",
      "here ['L', 100, 1000]\n",
      "unlock updated\n",
      "['L', 100, 1000]\n",
      "L\n",
      "complete\n",
      "here ['palm', 50, 900]\n",
      "unlock updated\n",
      "['palm', 50, 900]\n",
      "palm\n",
      "complete\n"
     ]
    }
   ],
   "source": [
    "import imp\n",
    "imp.reload(controller)\n",
    "imp.reload(controller_location)\n",
    "controller.reset()\n",
    "testInput = [['longhorn', 0, 200], ['longhorn', 0, 200], ['L', 100, 1000],['L', 100, 1000],['L', 100, 1000], ['palm', 50, 900]]\n",
    "\n",
    "for i in testInput:\n",
    "    print(\"here\", i)\n",
    "    controller.unlock(i)"
   ]
  },
  {
   "cell_type": "code",
   "execution_count": 34,
   "metadata": {},
   "outputs": [
    {
     "name": "stdout",
     "output_type": "stream",
     "text": [
      "[['longhorn', 455, 296], ['longhorn', 371, 273], ['palm', 800, 296], ['palm', 400, 273], ['fhrt', 800, 300]]\n",
      "['longhorn 455 296', 'longhorn 371 273', 'palm 800 296', 'palm 400 273', 'fhrt 800 300']\n"
     ]
    }
   ],
   "source": [
    "controller_location.initPassword()\n",
    "print(controller_location.password)\n",
    "threshold = .3\n",
    "\n"
   ]
  },
  {
   "cell_type": "code",
   "execution_count": null,
   "metadata": {
    "collapsed": true
   },
   "outputs": [],
   "source": []
  },
  {
   "cell_type": "code",
   "execution_count": 38,
   "metadata": {},
   "outputs": [
    {
     "name": "stdout",
     "output_type": "stream",
     "text": [
      "reset\n",
      "[['longhorn', 455, 296], ['longhorn', 371, 273], ['palm', 800, 296], ['palm', 400, 273], ['fhrt', 800, 300]]\n",
      "['longhorn 455 296', 'longhorn 371 273', 'palm 800 296', 'palm 400 273', 'fhrt 800 300']\n",
      "request\n",
      "picture obtained\n",
      "[]\n",
      "request\n",
      "picture obtained\n",
      "[]\n",
      "request\n",
      "picture obtained\n",
      "[{'class': 'longhorn', 'confidence': 78, 'coords': [('530', '735'), ('857', '960')]}]\n",
      "['longhorn', 530, 735]\n",
      "next password:  ['longhorn', 455, 296]\n",
      "\n",
      "-----checked correct:  ['longhorn', 530, 735]\n",
      "request\n",
      "picture obtained\n",
      "[{'class': 'longhorn', 'confidence': 46, 'coords': [('491', '779'), ('818', '1008')]}]\n",
      "['longhorn', 491, 779]\n",
      "next password:  ['longhorn', 371, 273]\n",
      "expected shift 84 23\n",
      "current shift 39 -44\n",
      "request\n",
      "picture obtained\n",
      "[{'class': 'longhorn', 'confidence': 59, 'coords': [('278', '217'), ('576', '670')]}]\n",
      "['longhorn', 278, 217]\n",
      "next password:  ['longhorn', 371, 273]\n",
      "expected shift 84 23\n",
      "current shift 252 518\n",
      "shift direction correct\n",
      "\n",
      "-----checked correct:  ['longhorn', 278, 217]\n",
      "request\n",
      "picture obtained\n",
      "[{'class': 'longhorn', 'confidence': 76, 'coords': [('329', '200'), ('622', '598')]}]\n",
      "['longhorn', 329, 200]\n",
      "next password:  ['palm', 800, 296]\n",
      "expected shift -429 -23\n",
      "current shift -51 17\n",
      "request\n",
      "picture obtained\n",
      "[{'class': 'palm', 'confidence': 71, 'coords': [('710', '582'), ('1001', '913')]}]\n",
      "['palm', 710, 582]\n",
      "next password:  ['palm', 800, 296]\n",
      "expected shift -429 -23\n",
      "current shift -432 -365\n",
      "shift direction correct\n",
      "threshold: 42.900000000000006\n",
      "UL within threshold\n",
      "\n",
      "-----checked correct:  ['palm', 710, 582]\n",
      "request\n",
      "picture obtained\n",
      "[{'class': 'palm', 'confidence': 70, 'coords': [('717', '593'), ('991', '904')]}]\n",
      "['palm', 717, 593]\n",
      "next password:  ['palm', 400, 273]\n",
      "expected shift 400 23\n",
      "current shift -7 -11\n",
      "request\n",
      "picture obtained\n",
      "[{'class': 'palm', 'confidence': 40, 'coords': [('348', '140'), ('564', '519')]}]\n",
      "['palm', 348, 140]\n",
      "next password:  ['palm', 400, 273]\n",
      "expected shift 400 23\n",
      "current shift 362 442\n",
      "shift direction correct\n",
      "threshold: 40.0\n",
      "UL within threshold\n",
      "\n",
      "-----checked correct:  ['palm', 348, 140]\n",
      "request\n",
      "picture obtained\n",
      "[{'class': 'palm', 'confidence': 68, 'coords': [('387', '122'), ('651', '485')]}]\n",
      "['palm', 387, 122]\n",
      "next password:  ['fhrt', 800, 300]\n",
      "expected shift -400 -27\n",
      "current shift -39 18\n",
      "request\n",
      "picture obtained\n",
      "[]\n",
      "request\n",
      "picture obtained\n",
      "[{'class': 'fhrt', 'confidence': 55, 'coords': [('706', '670'), ('954', '904')]}]\n",
      "['fhrt', 706, 670]\n",
      "next password:  ['fhrt', 800, 300]\n",
      "expected shift -400 -27\n",
      "current shift -358 -530\n",
      "shift direction correct\n",
      "threshold: 40.0\n",
      "UL within threshold\n",
      "\n",
      "-----checked correct:  ['fhrt', 706, 670]\n",
      "\n",
      "\n",
      "-----opened-----\n",
      "reset\n",
      "request\n",
      "picture obtained\n"
     ]
    },
    {
     "ename": "KeyboardInterrupt",
     "evalue": "",
     "output_type": "error",
     "traceback": [
      "\u001b[0;31m---------------------------------------------------------------------------\u001b[0m",
      "\u001b[0;31mKeyboardInterrupt\u001b[0m                         Traceback (most recent call last)",
      "\u001b[0;32m<ipython-input-38-65115bfda765>\u001b[0m in \u001b[0;36m<module>\u001b[0;34m()\u001b[0m\n\u001b[1;32m      9\u001b[0m     \u001b[0mprint\u001b[0m\u001b[0;34m(\u001b[0m\u001b[0;34m'picture obtained'\u001b[0m\u001b[0;34m)\u001b[0m\u001b[0;34m\u001b[0m\u001b[0m\n\u001b[1;32m     10\u001b[0m     \u001b[0moutput\u001b[0m \u001b[0;34m=\u001b[0m \u001b[0msubprocess\u001b[0m\u001b[0;34m.\u001b[0m\u001b[0mPopen\u001b[0m\u001b[0;34m(\u001b[0m\u001b[0;34m[\u001b[0m\u001b[0;34m'./darknet'\u001b[0m\u001b[0;34m,\u001b[0m\u001b[0;34m'detector'\u001b[0m\u001b[0;34m,\u001b[0m \u001b[0;34m'test'\u001b[0m\u001b[0;34m,\u001b[0m \u001b[0;34m'cfg/data3.data'\u001b[0m\u001b[0;34m,\u001b[0m\u001b[0;34m'cfg/yolo_data3.cfg'\u001b[0m\u001b[0;34m,\u001b[0m \u001b[0;34m'yolo-obj_best.weights'\u001b[0m\u001b[0;34m,\u001b[0m \u001b[0mimg_name\u001b[0m\u001b[0;34m,\u001b[0m \u001b[0;34m'-thresh'\u001b[0m\u001b[0;34m,\u001b[0m \u001b[0;34m'.4'\u001b[0m\u001b[0;34m]\u001b[0m\u001b[0;34m,\u001b[0m \u001b[0mstdout\u001b[0m \u001b[0;34m=\u001b[0m \u001b[0msubprocess\u001b[0m\u001b[0;34m.\u001b[0m\u001b[0mPIPE\u001b[0m\u001b[0;34m)\u001b[0m\u001b[0;34m\u001b[0m\u001b[0m\n\u001b[0;32m---> 11\u001b[0;31m     \u001b[0mresults\u001b[0m \u001b[0;34m=\u001b[0m \u001b[0mPredictionParser\u001b[0m\u001b[0;34m(\u001b[0m\u001b[0;34m)\u001b[0m\u001b[0;34m.\u001b[0m\u001b[0mparse_preds\u001b[0m\u001b[0;34m(\u001b[0m\u001b[0moutput\u001b[0m\u001b[0;34m.\u001b[0m\u001b[0mcommunicate\u001b[0m\u001b[0;34m(\u001b[0m\u001b[0;34m)\u001b[0m\u001b[0;34m[\u001b[0m\u001b[0;36m0\u001b[0m\u001b[0;34m]\u001b[0m\u001b[0;34m,\u001b[0m \u001b[0mthreshold\u001b[0m\u001b[0;34m)\u001b[0m\u001b[0;34m\u001b[0m\u001b[0m\n\u001b[0m\u001b[1;32m     12\u001b[0m     \u001b[0mprint\u001b[0m\u001b[0;34m(\u001b[0m\u001b[0mresults\u001b[0m\u001b[0;34m)\u001b[0m\u001b[0;34m\u001b[0m\u001b[0m\n\u001b[1;32m     13\u001b[0m     \u001b[0;32mif\u001b[0m \u001b[0mlen\u001b[0m\u001b[0;34m(\u001b[0m\u001b[0mresults\u001b[0m\u001b[0;34m)\u001b[0m \u001b[0;34m>\u001b[0m \u001b[0;36m0\u001b[0m\u001b[0;34m:\u001b[0m\u001b[0;34m\u001b[0m\u001b[0m\n",
      "\u001b[0;32m~/anaconda3/lib/python3.6/subprocess.py\u001b[0m in \u001b[0;36mcommunicate\u001b[0;34m(self, input, timeout)\u001b[0m\n\u001b[1;32m    823\u001b[0m                 \u001b[0mself\u001b[0m\u001b[0;34m.\u001b[0m\u001b[0m_stdin_write\u001b[0m\u001b[0;34m(\u001b[0m\u001b[0minput\u001b[0m\u001b[0;34m)\u001b[0m\u001b[0;34m\u001b[0m\u001b[0m\n\u001b[1;32m    824\u001b[0m             \u001b[0;32melif\u001b[0m \u001b[0mself\u001b[0m\u001b[0;34m.\u001b[0m\u001b[0mstdout\u001b[0m\u001b[0;34m:\u001b[0m\u001b[0;34m\u001b[0m\u001b[0m\n\u001b[0;32m--> 825\u001b[0;31m                 \u001b[0mstdout\u001b[0m \u001b[0;34m=\u001b[0m \u001b[0mself\u001b[0m\u001b[0;34m.\u001b[0m\u001b[0mstdout\u001b[0m\u001b[0;34m.\u001b[0m\u001b[0mread\u001b[0m\u001b[0;34m(\u001b[0m\u001b[0;34m)\u001b[0m\u001b[0;34m\u001b[0m\u001b[0m\n\u001b[0m\u001b[1;32m    826\u001b[0m                 \u001b[0mself\u001b[0m\u001b[0;34m.\u001b[0m\u001b[0mstdout\u001b[0m\u001b[0;34m.\u001b[0m\u001b[0mclose\u001b[0m\u001b[0;34m(\u001b[0m\u001b[0;34m)\u001b[0m\u001b[0;34m\u001b[0m\u001b[0m\n\u001b[1;32m    827\u001b[0m             \u001b[0;32melif\u001b[0m \u001b[0mself\u001b[0m\u001b[0;34m.\u001b[0m\u001b[0mstderr\u001b[0m\u001b[0;34m:\u001b[0m\u001b[0;34m\u001b[0m\u001b[0m\n",
      "\u001b[0;31mKeyboardInterrupt\u001b[0m: "
     ]
    }
   ],
   "source": [
    "controller_location.reset()\n",
    "controller_location.initPassword()\n",
    "print(controller_location.password)\n",
    "count = 0\n",
    "while(True):\n",
    "    img_name = str(count)+'.jpg'\n",
    "    print('request')\n",
    "    subprocess.Popen(['wget', '-q' ,'-O', img_name, 'http://10.148.250.47:8000/shot.jpg']).wait()\n",
    "    print('picture obtained')\n",
    "    output = subprocess.Popen(['./darknet','detector', 'test', 'cfg/data3.data','cfg/yolo_data3.cfg', 'yolo-obj_best.weights', img_name, '-thresh', '.4'], stdout = subprocess.PIPE)\n",
    "    results = PredictionParser().parse_preds(output.communicate()[0], threshold)\n",
    "    print(results)\n",
    "    if len(results) > 0:\n",
    "        query = [results[0]['class'], int(results[0]['coords'][0][0]), int(results[0]['coords'][0][1])]\n",
    "        print(query)\n",
    "        controller_location.unlock(query)\n",
    "           \n",
    "    count = count + 1"
   ]
  }
 ],
 "metadata": {
  "kernelspec": {
   "display_name": "Python 3",
   "language": "python",
   "name": "python3"
  },
  "language_info": {
   "codemirror_mode": {
    "name": "ipython",
    "version": 3
   },
   "file_extension": ".py",
   "mimetype": "text/x-python",
   "name": "python",
   "nbconvert_exporter": "python",
   "pygments_lexer": "ipython3",
   "version": "3.6.2"
  }
 },
 "nbformat": 4,
 "nbformat_minor": 2
}
